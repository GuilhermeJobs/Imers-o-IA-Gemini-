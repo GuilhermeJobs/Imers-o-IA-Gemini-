{
  "nbformat": 4,
  "nbformat_minor": 0,
  "metadata": {
    "colab": {
      "provenance": [],
      "authorship_tag": "ABX9TyPshbfbqxv1e5xpkwF8klBI",
      "include_colab_link": true
    },
    "kernelspec": {
      "name": "python3",
      "display_name": "Python 3"
    },
    "language_info": {
      "name": "python"
    }
  },
  "cells": [
    {
      "cell_type": "markdown",
      "metadata": {
        "id": "view-in-github",
        "colab_type": "text"
      },
      "source": [
        "<a href=\"https://colab.research.google.com/github/GuilhermeJobs/Imers-o-IA-Gemini-/blob/main/Imers%C3%A3oGeminiAI.ipynb\" target=\"_parent\"><img src=\"https://colab.research.google.com/assets/colab-badge.svg\" alt=\"Open In Colab\"/></a>"
      ]
    },
    {
      "cell_type": "markdown",
      "source": [
        "Imersão da Alura\n",
        "Aula de python"
      ],
      "metadata": {
        "id": "RjG8NDFyLV-d"
      }
    },
    {
      "cell_type": "code",
      "source": [
        "#Importanto bibliotecas\n",
        "import requests\n",
        "import random"
      ],
      "metadata": {
        "id": "T4oqxCt8W3XM"
      },
      "execution_count": 1,
      "outputs": []
    },
    {
      "cell_type": "markdown",
      "source": [],
      "metadata": {
        "id": "qc_3g6-_buSn"
      }
    },
    {
      "cell_type": "code",
      "execution_count": 2,
      "metadata": {
        "colab": {
          "base_uri": "https://localhost:8080/"
        },
        "id": "wyxSaPz92jzP",
        "outputId": "1b46b718-b447-4a7a-b26f-89dc16510b07"
      },
      "outputs": [
        {
          "output_type": "execute_result",
          "data": {
            "text/plain": [
              "17"
            ]
          },
          "metadata": {},
          "execution_count": 2
        }
      ],
      "source": [
        "#Importar meus arquivos de dados\n",
        "url = 'https://raw.githubusercontent.com/GuilhermeJobs/Imers-o-IA-Gemini-/main/data.json'\n",
        "baseCru = requests.get(url)\n",
        "perguntasRespostas = baseCru.json()\n",
        "#Verificar a quantidade de perguntas e respostas\n",
        "len(perguntasRespostas)"
      ]
    },
    {
      "cell_type": "code",
      "source": [
        "#testando a base\n",
        "perguntasRespostas[-1]"
      ],
      "metadata": {
        "colab": {
          "base_uri": "https://localhost:8080/"
        },
        "id": "zSBl0Dh_UChp",
        "outputId": "40278ec4-aede-4e79-b48c-eb38da86220a"
      },
      "execution_count": 3,
      "outputs": [
        {
          "output_type": "execute_result",
          "data": {
            "text/plain": [
              "{'pergunta': 'Em que ano foi publicada a obra O Senhor dos Anéis de J.R.R. Tolkien?',\n",
              " 'resposta': '1954'}"
            ]
          },
          "metadata": {},
          "execution_count": 3
        }
      ]
    },
    {
      "cell_type": "code",
      "source": [
        "#Criando um jogo de perguntas e respostas no pythn\n",
        "\n",
        "#gerando uma pergunta aleatoria\n",
        "pergunta_secreta = random.choice(perguntasRespostas)\n",
        "resposta = pergunta_secreta['resposta']\n",
        "pergunta = pergunta_secreta['pergunta']\n",
        "\n",
        "print(pergunta)\n",
        "papalpite = input(\"Sua resposta: \")\n",
        "if papalpite == resposta :\n",
        "  print(\"Acertou! \")\n",
        "else :\n",
        "  print(f\"Errou! A resposta correta é {resposta}\")"
      ],
      "metadata": {
        "colab": {
          "base_uri": "https://localhost:8080/"
        },
        "id": "yQiychk2ZMhi",
        "outputId": "7400b69c-bfb1-43a5-c5ce-21abe8e68c4a"
      },
      "execution_count": 4,
      "outputs": [
        {
          "output_type": "stream",
          "name": "stdout",
          "text": [
            "Em que ano ocorreu a queda do Muro de Berlim?\n",
            "Sua resposta: 1654\n",
            "Errou! A resposta correta é 1989\n"
          ]
        }
      ]
    }
  ]
}